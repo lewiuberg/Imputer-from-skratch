{
 "cells": [
  {
   "cell_type": "markdown",
   "metadata": {},
   "source": [
    "# Imputer from Scratch"
   ]
  },
  {
   "cell_type": "markdown",
   "metadata": {
    "toc": true
   },
   "source": [
    "<h1>Table of Contents<span class=\"tocSkip\"></span></h1>\n",
    "<div class=\"toc\"><ul class=\"toc-item\"><li><span><a href=\"#Importing-libraries\" data-toc-modified-id=\"Importing-libraries-1\"><span class=\"toc-item-num\">1&nbsp;&nbsp;</span>Importing libraries</a></span></li><li><span><a href=\"#Strategy-Interface\" data-toc-modified-id=\"Strategy-Interface-2\"><span class=\"toc-item-num\">2&nbsp;&nbsp;</span>Strategy Interface</a></span></li><li><span><a href=\"#Family-of-algorithms\" data-toc-modified-id=\"Family-of-algorithms-3\"><span class=\"toc-item-num\">3&nbsp;&nbsp;</span>Family of algorithms</a></span><ul class=\"toc-item\"><li><span><a href=\"#Concrete-Strategy-1\" data-toc-modified-id=\"Concrete-Strategy-1-3.1\"><span class=\"toc-item-num\">3.1&nbsp;&nbsp;</span>Concrete Strategy 1</a></span></li><li><span><a href=\"#Concrete-Strategy-2\" data-toc-modified-id=\"Concrete-Strategy-2-3.2\"><span class=\"toc-item-num\">3.2&nbsp;&nbsp;</span>Concrete Strategy 2</a></span></li><li><span><a href=\"#Concrete-Strategy-3\" data-toc-modified-id=\"Concrete-Strategy-3-3.3\"><span class=\"toc-item-num\">3.3&nbsp;&nbsp;</span>Concrete Strategy 3</a></span></li><li><span><a href=\"#Concrete-strategy-instantiation\" data-toc-modified-id=\"Concrete-strategy-instantiation-3.4\"><span class=\"toc-item-num\">3.4&nbsp;&nbsp;</span>Concrete strategy instantiation</a></span></li></ul></li><li><span><a href=\"#The-Context\" data-toc-modified-id=\"The-Context-4\"><span class=\"toc-item-num\">4&nbsp;&nbsp;</span>The Context</a></span></li><li><span><a href=\"#Data-Preprocessing\" data-toc-modified-id=\"Data-Preprocessing-5\"><span class=\"toc-item-num\">5&nbsp;&nbsp;</span>Data Preprocessing</a></span></li><li><span><a href=\"#Using-the-Imputer\" data-toc-modified-id=\"Using-the-Imputer-6\"><span class=\"toc-item-num\">6&nbsp;&nbsp;</span>Using the Imputer</a></span><ul class=\"toc-item\"><li><span><a href=\"#Imputed-by-Mean\" data-toc-modified-id=\"Imputed-by-Mean-6.1\"><span class=\"toc-item-num\">6.1&nbsp;&nbsp;</span>Imputed by Mean</a></span></li><li><span><a href=\"#Imputed-by-Mean---Transposed\" data-toc-modified-id=\"Imputed-by-Mean---Transposed-6.2\"><span class=\"toc-item-num\">6.2&nbsp;&nbsp;</span>Imputed by Mean - Transposed</a></span></li><li><span><a href=\"#Imputed-by-Median\" data-toc-modified-id=\"Imputed-by-Median-6.3\"><span class=\"toc-item-num\">6.3&nbsp;&nbsp;</span>Imputed by Median</a></span></li></ul></li><li><span><a href=\"#Extending-the-Imputer\" data-toc-modified-id=\"Extending-the-Imputer-7\"><span class=\"toc-item-num\">7&nbsp;&nbsp;</span>Extending the Imputer</a></span><ul class=\"toc-item\"><li><span><a href=\"#Imputed-by-Mode\" data-toc-modified-id=\"Imputed-by-Mode-7.1\"><span class=\"toc-item-num\">7.1&nbsp;&nbsp;</span>Imputed by Mode</a></span></li></ul></li></ul></div>"
   ]
  },
  {
   "cell_type": "markdown",
   "metadata": {},
   "source": [
    "# Assumptions\n",
    "The main focus of this report on laboratory work is demonstrating the understanding of object-oriented programming principles and how to apply them.\n",
    "\n",
    "Every step of the implementation is explained; it is therefore assumed that additional code documentation is redundant. However, to demonstrate an understanding of the documentation conventions described in PEP 257, examples are included in the class **Imputer**.\n",
    "\n",
    "Since the code is made for demonstration purposes and not intended for reuse, error handling is also reduced to two examples of raising errors in the class **Imputer**."
   ]
  },
  {
   "cell_type": "markdown",
   "metadata": {},
   "source": [
    "# Implementation\n",
    "The Imputer will be implementing the strategy pattern for its choices of imputation, which enables the algorithm used to vary independently at runtime. Thereby applying **Design Principle 1:** *Identify the aspects of your application that vary and separate them from what stays the same.*\n",
    "\n",
    "## Importing libraries"
   ]
  },
  {
   "cell_type": "markdown",
   "metadata": {},
   "source": [
    "Importing a metaclass for defining abstract base classes, and a decorator indicating abstract methods from the abc module."
   ]
  },
  {
   "cell_type": "code",
   "execution_count": 1,
   "metadata": {},
   "outputs": [],
   "source": [
    "from abc import ABCMeta, abstractmethod"
   ]
  },
  {
   "cell_type": "markdown",
   "metadata": {},
   "source": [
    "Importing deepcopy to enable making unique copies of compound objects."
   ]
  },
  {
   "cell_type": "code",
   "execution_count": 2,
   "metadata": {},
   "outputs": [],
   "source": [
    "from copy import deepcopy"
   ]
  },
  {
   "cell_type": "markdown",
   "metadata": {},
   "source": [
    "## Strategy Interface\n",
    "Firstly the strategy interface is defined.\n",
    "\n",
    "The ImputationStrategy class is the superclass all composite classes inherit from and defines an interface with a default set of behaviours equal to all concrete strategies. Thereby applying **Design Principle 2:** *Program to an interface, not an implementation*, as well as **Design Principle 3:** *Favor composition over inheritance.*"
   ]
  },
  {
   "cell_type": "code",
   "execution_count": 3,
   "metadata": {},
   "outputs": [],
   "source": [
    "class ImputationStrategy(metaclass=ABCMeta):\n",
    "\n",
    "    @abstractmethod\n",
    "    def _imputation(self, my_list: list, missing_values: str) -> float:\n",
    "        \"\"\"Must be implemented in order to instanciate\"\"\""
   ]
  },
  {
   "cell_type": "markdown",
   "metadata": {},
   "source": [
    "## Family of algorithms\n",
    "Secondly, defining the concrete strategies. A family of algorithms is encapsulated in separate classes and made interchangeable through having the same interface.\n",
    "\n",
    "Each family member can define new behaviors; however, they inherit all the superclass' behaviors, which can be replaced by overriding them.  Defining abstractmethods in the superclass demands any subclass to implement the specific behavior, thereby enforcing a common default interface.\n",
    "\n",
    "Since these classes only have one single responsibility **Design Principle 6:** *A class should have only one reason to change.* is applied."
   ]
  },
  {
   "cell_type": "markdown",
   "metadata": {},
   "source": [
    "### Concrete Strategy 1\n",
    "**Impute by mean**<br/>\n",
    "Mean is the average sum of a group of numbers."
   ]
  },
  {
   "cell_type": "code",
   "execution_count": 4,
   "metadata": {
    "run_control": {
     "marked": false
    }
   },
   "outputs": [],
   "source": [
    "class ImputeByMean(ImputationStrategy):\n",
    "\n",
    "    def _imputation(self, my_list: list, missing_values: str) -> float:\n",
    "        temp_sum = 0\n",
    "        count = 0\n",
    "        for num in my_list:\n",
    "            if num != missing_values:\n",
    "                temp_sum += num\n",
    "                count += 1\n",
    "        mean = (temp_sum/count)\n",
    "        return round(mean, 2)"
   ]
  },
  {
   "cell_type": "markdown",
   "metadata": {},
   "source": [
    "### Concrete Strategy 2\n",
    "**Impute by median**<br/>\n",
    "Median is the middle of a *sorted* list of numbers."
   ]
  },
  {
   "cell_type": "code",
   "execution_count": 5,
   "metadata": {},
   "outputs": [],
   "source": [
    "class ImputeByMedian(ImputationStrategy):\n",
    "\n",
    "    def _imputation(self, my_list: list, missing_values: str) -> float:\n",
    "        temp_list = []\n",
    "        for num in my_list:\n",
    "            if num != missing_values:\n",
    "                temp_list.append(num)\n",
    "\n",
    "        temp_list.sort()\n",
    "        temp_len = len(temp_list)\n",
    "\n",
    "        if temp_len % 2 == 0:\n",
    "            median1 = temp_list[temp_len//2]\n",
    "            median2 = temp_list[temp_len//2 - 1]\n",
    "            median = (median1 + median2)/2\n",
    "        else:\n",
    "            median = temp_list[temp_len//2]\n",
    "        return round(median, 2)"
   ]
  },
  {
   "cell_type": "markdown",
   "metadata": {},
   "source": [
    "### Concrete Strategy 3\n",
    "**Impute by mode**<br/>\n",
    "Mode is the most frequent value.\n",
    "\n",
    "**Note:** Mode is included here for context but implemented below for demonstration purposes.\n",
    "```python\n",
    "class ImputeByMode(ImputationStrategy):\n",
    "\n",
    "    def _imputation(self, my_list: list, missing_values: str) -> float:\n",
    "        frequency = {}\n",
    "        for item in my_list:\n",
    "            if item != missing_values:\n",
    "                if (item in frequency):\n",
    "                    frequency[item] += 1\n",
    "                else:\n",
    "                    frequency[item] = 1\n",
    "        mode = max(frequency, key=frequency.get)\n",
    "        return round(mode, 2)\n",
    "```"
   ]
  },
  {
   "cell_type": "markdown",
   "metadata": {},
   "source": [
    "### Concrete strategy instantiation\n",
    "By instantiating the class and referencing the object instance, only one object needs creation. Thereby applying **Design Principle 5:** *Depend upon abstractions. Do not depend upon concrete classes.* \n",
    "\n",
    "If instead directly calling the class, new objects are getting defined on each occasion."
   ]
  },
  {
   "cell_type": "code",
   "execution_count": 6,
   "metadata": {},
   "outputs": [],
   "source": [
    "mean = ImputeByMean()\n",
    "median = ImputeByMedian()\n",
    "# mode = ImputeByMode()"
   ]
  },
  {
   "cell_type": "markdown",
   "metadata": {},
   "source": [
    "## The Context\n",
    "The Imputer, which is the strategy patterns context, contains a reference to the instantiations of the concrete strategy objects.\n",
    "\n",
    "The imputer uses the strategy interface to call the algorithm defined by a concrete strategy; each concrete strategy then implements an algorithm.<br/>\n",
    "Since this is the only connection between the imputer and the strategy interface **Design Principle 4:** *Strive for loosely coupled designs between objects that interact\"*, is applied.\n",
    "\n",
    "When an operation is required, the concrete strategy object runs the algorithm without the imputer being aware of the strategy implementation.\n",
    "\n",
    "If necessary, additional imputer objects can be instantiated to pass data from the imputer object to the strategy interface, thereby eliminating it as a singleton candidate."
   ]
  },
  {
   "cell_type": "code",
   "execution_count": 7,
   "metadata": {},
   "outputs": [],
   "source": [
    "class Imputer:\n",
    "    \"\"\"\n",
    "     The base class for imputer objects.\n",
    "     Enables the user to specify which imputation method, and which \"cells\" to \n",
    "     perform imputation on in a specific 2-dimensional list. \n",
    "     A unique copy is made of the specified 2-dimensional list before\n",
    "     transforming and returning it to the user.\n",
    "    \"\"\"\n",
    "\n",
    "    def __init__(self, strategy=\"mean\", axis=0) -> None:\n",
    "        \"\"\"\n",
    "        Defining instanse attributes on instansiation.\n",
    "\n",
    "        Args:\n",
    "            strategy (str, optional): A concrete strategy. Defaults to \"mean\".\n",
    "            axis (int, optional): Column=0 or Row=1. Defaults to 0.\n",
    "        \"\"\"\n",
    "\n",
    "        # Reference to the concrete strategy object being used.\n",
    "        self._strategy = strategy\n",
    "        # Calling internal method.\n",
    "        self.__strategy_prosessor()\n",
    "        # Reference to the axis orientation being used.\n",
    "        self._axis = axis\n",
    "        # Reference to the keyword for missing values.\n",
    "        # Defined as public, as per convention.\n",
    "        self.missing_values = \"nan\"\n",
    "        # Defines which column or row to start.\n",
    "        self._from_item = None\n",
    "        # Defines which column or row to end.\n",
    "        self._to_item = None\n",
    "\n",
    "    def __strategy_prosessor(self) -> None:\n",
    "        \"\"\"\n",
    "        Internal method validating that selected strategy is allowed.\n",
    "        If so, selecting its imputation method.\n",
    "\n",
    "        Raises:\n",
    "            AssertionError: If the selected strategy is not allowed.\n",
    "        \"\"\"\n",
    "\n",
    "        allowed_strategies = [\"mean\", \"median\", \"mode\"]\n",
    "        if self._strategy == allowed_strategies[0]:\n",
    "            self._strategy = mean._imputation\n",
    "        elif self._strategy == allowed_strategies[1]:\n",
    "            self._strategy = median._imputation\n",
    "        elif self._strategy == allowed_strategies[2]:\n",
    "            self._strategy = mode._imputation\n",
    "        else:\n",
    "            assert self._strategy in allowed_strategies, (\n",
    "                f\"Can only use these strategies: {allowed_strategies}, \"\n",
    "                f\"got strategy = {self._strategy}\")\n",
    "\n",
    "    def __transpose(self, my_matrix: list) -> list:\n",
    "        \"\"\"\n",
    "        Transposes 2-dimensional list.\n",
    "\n",
    "        Args:\n",
    "            my_matrix (list): 2-dimensional list.\n",
    "\n",
    "        Returns:\n",
    "            list: 2-dimensional list transposed.\n",
    "        \"\"\"\n",
    "\n",
    "        trans_matrix = []\n",
    "        temp_matrix = [[my_matrix[j][i] for j in range(len(my_matrix))]\n",
    "                       for i in range(len(my_matrix[0]))]\n",
    "        for row in temp_matrix:\n",
    "            trans_matrix.append(row)\n",
    "        return trans_matrix\n",
    "\n",
    "    def fit(self, my_matrix: list, from_item: int, to_item: int) -> object:\n",
    "        \"\"\"\n",
    "        Passes in the 2-dimensional list for imputation, \n",
    "        and sets from which column to start with, and end by.\n",
    "\n",
    "        Args:\n",
    "            my_matrix (list): 2-dimensional list.\n",
    "            from_item (int): The column to start with.\n",
    "            to_item (int): The column to end by.\n",
    "\n",
    "        Raises:\n",
    "            ValueError: If axis is not equal to the defined options.\n",
    "\n",
    "        Returns:\n",
    "            object: The same imputer object that calls the method.\n",
    "        \"\"\"\n",
    "        \n",
    "        self._to_item = to_item\n",
    "        \n",
    "        if self._axis == 0:\n",
    "            self._array = my_matrix\n",
    "            self._from_item = from_item - 1\n",
    "        elif self._axis == 1:\n",
    "            self._array = self.__transpose(my_matrix)\n",
    "            self._from_item = from_item\n",
    "        else:\n",
    "            raise ValueError(\n",
    "                f\"Can only use integer value 0 or 1: \"\n",
    "                f\"got axis = {self._axis}\")\n",
    "        return self\n",
    "\n",
    "    def __axis_lister(self, matrix: list, col: int) -> list:\n",
    "        \"\"\"\n",
    "        Generates a list for all values in a 2-dimensional list column.\n",
    "\n",
    "        Args:\n",
    "            matrix (list): 2-dimensional list.\n",
    "            col (int): selected column to generat list from.\n",
    "\n",
    "        Returns:\n",
    "            list: All values in a 2-dimensional list column.\n",
    "        \"\"\"\n",
    "\n",
    "        temp_list = []\n",
    "        for row in range(len(matrix)):\n",
    "            temp_list.append((matrix[row][col]))\n",
    "        return temp_list\n",
    "\n",
    "    def _imputation(self, my_list: list, missing_values: str) -> float:\n",
    "        \"\"\"\n",
    "        Passing a list to the concrete strategy object with the desired\n",
    "        imputation algorithm. For this reason, the method cannot be private, \n",
    "        but have to be public or protected.\n",
    "\n",
    "        Args:\n",
    "            my_list (list): The list to be calculated by the algorithm.\n",
    "            missing_values (str): The keyword for the missing values.\n",
    "\n",
    "        Returns:\n",
    "            float: The calculated value to swap with the missing value keyword\n",
    "        \"\"\"\n",
    "\n",
    "        return_value = self._strategy(my_list, missing_values)\n",
    "        return return_value\n",
    "\n",
    "    def transform(self) -> list:\n",
    "        \"\"\"\n",
    "        Inserts the imputed column value in each column-row (\"cell\") of the \n",
    "        2-dimensional list where the missing value keyword exists.\n",
    "\n",
    "        Returns:\n",
    "            list: A unique copy of the selected 2-dimensional list after \n",
    "            it has been imputed.\n",
    "        \"\"\"\n",
    "\n",
    "        return_matrix = deepcopy(self._array)\n",
    "        for col in range(self._from_item, self._to_item):\n",
    "            imputed_value = self._imputation(\n",
    "                self.__axis_lister(self._array, col), self.missing_values)\n",
    "            for row in range(len(return_matrix)):\n",
    "                if return_matrix[row][col] == self.missing_values:\n",
    "                    return_matrix[row][col] = imputed_value\n",
    "        if self._axis == 0:\n",
    "            pass\n",
    "        elif self._axis == 1:\n",
    "            return_matrix = self.__transpose(return_matrix)\n",
    "\n",
    "        return return_matrix\n",
    "\n",
    "    def __str__(self) -> str:\n",
    "        \"\"\"\n",
    "        Provides users with an easy to read representation of the class.\n",
    "\n",
    "        Returns:\n",
    "            str: The class name.\n",
    "        \"\"\"\n",
    "\n",
    "        return f\"{self.__class__.__name__}\"\n",
    "\n",
    "    def __repr__(self) -> str:\n",
    "        \"\"\"\n",
    "        Provides developers with unambigous information of the class.\n",
    "\n",
    "        Returns:\n",
    "            str: The class name and the state of instance variables.\n",
    "        \"\"\"\n",
    "        return \"{self.__class__.__name__}\" \\\n",
    "               \"(Strategy: {self._strategy}, \" \\\n",
    "               \"Axis:{self._axis}, \" \\\n",
    "               \"Missing value: {self.missing_values}, \" \\\n",
    "               \"From:{self._from_item}, \" \\\n",
    "               \"To:{self._to_item})\".format(self=self)"
   ]
  },
  {
   "cell_type": "markdown",
   "metadata": {},
   "source": [
    "# Demonstration\n",
    "## Data Preprocessing\n",
    "A class with a method for transposing a 2-dimensional list and a method to print this list format with tabs based on word length is made an instantiated."
   ]
  },
  {
   "cell_type": "code",
   "execution_count": 8,
   "metadata": {},
   "outputs": [],
   "source": [
    "class Matrix:\n",
    "    def transpose(self, my_matrix):\n",
    "        trans_matrix = []\n",
    "        temp_matrix = [[my_matrix[j][i] for j in range(len(my_matrix))]\n",
    "                       for i in range(len(my_matrix[0]))]\n",
    "        for row in temp_matrix:\n",
    "            trans_matrix.append(row)\n",
    "        return trans_matrix\n",
    "\n",
    "    def printer(self, my_matrix, title=None, axis=0):\n",
    "        my_matrix = deepcopy(my_matrix)\n",
    "        if title is not None:\n",
    "            if axis == 0:\n",
    "                my_matrix.insert(0, title)\n",
    "            elif axis == 1:\n",
    "                for i in range(len(my_matrix)):\n",
    "                    my_matrix[i].insert(0, title[i])\n",
    "        str_matrix = [[str(entity) for entity in row] for row in my_matrix]\n",
    "        max_len_col_str = [max(map(len, col)) for col in zip(*str_matrix)]\n",
    "        form = \"\\t\".join(\"{{:{}}}\".format(x) for x in max_len_col_str)\n",
    "        matrix_row = [form.format(*row) for row in str_matrix]\n",
    "        return_matrix = \"\\n\".join(matrix_row)\n",
    "        print(return_matrix)\n",
    "        \n",
    "matrix = Matrix()"
   ]
  },
  {
   "cell_type": "markdown",
   "metadata": {},
   "source": [
    "A mock dataset for demonstrations is provided."
   ]
  },
  {
   "cell_type": "code",
   "execution_count": 9,
   "metadata": {},
   "outputs": [],
   "source": [
    "dataset = list([[\"Country\", \"Age\", \"Salary\", \"Children\", \"Cars\"],\n",
    "                [\"Swe\", 38.0, 47200.0, 1, 1],\n",
    "                [\"Den\", 27.0, 48000.0, 0, 6],\n",
    "                [\"Nor\", 30.0, 54000.0, 2, \"nan\"],\n",
    "                [\"Den\", 38.0, 61000.0, \"nan\", 1],\n",
    "                [\"Nor\", 40.0, \"nan\", 2, 1],\n",
    "                [\"Swe\", 35.0, 58000.0, 1, 1],\n",
    "                [\"Den\", \"nan\", 52000.0, 0, \"nan\"],\n",
    "                [\"Swe\", 48.0, 67900.0, 2, 1],\n",
    "                [\"Nor\", 50.0, 88300.0, 6, 2],\n",
    "                [\"Swe\", 37.0, 67900.0, \"nan\", 2]])"
   ]
  },
  {
   "cell_type": "markdown",
   "metadata": {},
   "source": [
    "Some data preprocessing is simulated. First, the title row is removed from the list and inserted into its own list for later use."
   ]
  },
  {
   "cell_type": "code",
   "execution_count": 10,
   "metadata": {
    "run_control": {
     "marked": false
    },
    "scrolled": true
   },
   "outputs": [
    {
     "data": {
      "text/plain": [
       "['Country', 'Age', 'Salary', 'Children', 'Cars']"
      ]
     },
     "metadata": {},
     "output_type": "display_data"
    },
    {
     "data": {
      "text/plain": [
       "[['Swe', 38.0, 47200.0, 1, 1],\n",
       " ['Den', 27.0, 48000.0, 0, 6],\n",
       " ['Nor', 30.0, 54000.0, 2, 'nan'],\n",
       " ['Den', 38.0, 61000.0, 'nan', 1],\n",
       " ['Nor', 40.0, 'nan', 2, 1],\n",
       " ['Swe', 35.0, 58000.0, 1, 1],\n",
       " ['Den', 'nan', 52000.0, 0, 'nan'],\n",
       " ['Swe', 48.0, 67900.0, 2, 1],\n",
       " ['Nor', 50.0, 88300.0, 6, 2],\n",
       " ['Swe', 37.0, 67900.0, 'nan', 2]]"
      ]
     },
     "metadata": {},
     "output_type": "display_data"
    }
   ],
   "source": [
    "dataset_title_row = dataset.pop(0)\n",
    "display(dataset_title_row)\n",
    "display(dataset)"
   ]
  },
  {
   "cell_type": "markdown",
   "metadata": {},
   "source": [
    "Defining a transposed version of the dataset for later demonstrations on the axis feature."
   ]
  },
  {
   "cell_type": "code",
   "execution_count": 11,
   "metadata": {},
   "outputs": [],
   "source": [
    "dataset_trans = matrix.transpose(dataset)"
   ]
  },
  {
   "cell_type": "markdown",
   "metadata": {},
   "source": [
    "After the simulated preprocessing is over, the matrix objects printer method is demonstrated; passing in the desired dataset as well as the optional title row."
   ]
  },
  {
   "cell_type": "code",
   "execution_count": 12,
   "metadata": {},
   "outputs": [
    {
     "name": "stdout",
     "output_type": "stream",
     "text": [
      "Country\tAge \tSalary \tChildren\tCars\n",
      "Swe    \t38.0\t47200.0\t1       \t1   \n",
      "Den    \t27.0\t48000.0\t0       \t6   \n",
      "Nor    \t30.0\t54000.0\t2       \tnan \n",
      "Den    \t38.0\t61000.0\tnan     \t1   \n",
      "Nor    \t40.0\tnan    \t2       \t1   \n",
      "Swe    \t35.0\t58000.0\t1       \t1   \n",
      "Den    \tnan \t52000.0\t0       \tnan \n",
      "Swe    \t48.0\t67900.0\t2       \t1   \n",
      "Nor    \t50.0\t88300.0\t6       \t2   \n",
      "Swe    \t37.0\t67900.0\tnan     \t2   \n"
     ]
    }
   ],
   "source": [
    "matrix.printer(dataset, dataset_title_row)"
   ]
  },
  {
   "cell_type": "markdown",
   "metadata": {},
   "source": [
    "Now, performing the same procedure for the transposed version. However, it is necessary to set the axis property to ```1``` to represent a transposed matrix, ensuring the proper output format.\n",
    "\n",
    "**Note:** For the intended output to be displayed correctly for a transposed matrix, the web browser running Jupyter has to have the default zoom level."
   ]
  },
  {
   "cell_type": "code",
   "execution_count": 13,
   "metadata": {
    "scrolled": true
   },
   "outputs": [
    {
     "name": "stdout",
     "output_type": "stream",
     "text": [
      "Country \tSwe    \tDen    \tNor    \tDen    \tNor \tSwe    \tDen    \tSwe    \tNor    \tSwe    \n",
      "Age     \t38.0   \t27.0   \t30.0   \t38.0   \t40.0\t35.0   \tnan    \t48.0   \t50.0   \t37.0   \n",
      "Salary  \t47200.0\t48000.0\t54000.0\t61000.0\tnan \t58000.0\t52000.0\t67900.0\t88300.0\t67900.0\n",
      "Children\t1      \t0      \t2      \tnan    \t2   \t1      \t0      \t2      \t6      \tnan    \n",
      "Cars    \t1      \t6      \tnan    \t1      \t1   \t1      \tnan    \t1      \t2      \t2      \n"
     ]
    }
   ],
   "source": [
    "matrix.printer(dataset_trans, dataset_title_row, 1)"
   ]
  },
  {
   "cell_type": "markdown",
   "metadata": {},
   "source": [
    "## Using the Imputer\n",
    "### Imputed by Mean\n",
    "First, the default imputer is instantiated, imputation by mean, and column."
   ]
  },
  {
   "cell_type": "code",
   "execution_count": 14,
   "metadata": {
    "scrolled": true
   },
   "outputs": [],
   "source": [
    "mean_imputer = Imputer()"
   ]
  },
  {
   "cell_type": "markdown",
   "metadata": {},
   "source": [
    "Demonstrating the ```__str__``` and ```__repr__``` methods defined in the Imputer class."
   ]
  },
  {
   "cell_type": "code",
   "execution_count": 15,
   "metadata": {},
   "outputs": [
    {
     "name": "stdout",
     "output_type": "stream",
     "text": [
      "Imputer\n"
     ]
    },
    {
     "data": {
      "text/plain": [
       "Imputer(Strategy: <bound method ImputeByMean._imputation of <__main__.ImputeByMean object at 0x10f3dbf50>>, Axis:0, Missing value: nan, From:None, To:None)"
      ]
     },
     "execution_count": 15,
     "metadata": {},
     "output_type": "execute_result"
    }
   ],
   "source": [
    "print(mean_imputer) # <- __str__\n",
    "mean_imputer        # <- __repr__"
   ]
  },
  {
   "cell_type": "markdown",
   "metadata": {},
   "source": [
    "Defining which dataset the imputer should use as a source, and from which column to start and end."
   ]
  },
  {
   "cell_type": "code",
   "execution_count": 16,
   "metadata": {},
   "outputs": [],
   "source": [
    "mean_imputer = mean_imputer.fit(dataset, 2, 5)"
   ]
  },
  {
   "cell_type": "markdown",
   "metadata": {},
   "source": [
    "The imputer now copies the 2-dimensional list, calculates all selected column or row value depending on the axis settings using the desired strategy object, then returns the result to the user."
   ]
  },
  {
   "cell_type": "code",
   "execution_count": 17,
   "metadata": {},
   "outputs": [],
   "source": [
    "dataset_by_mean = mean_imputer.transform()"
   ]
  },
  {
   "cell_type": "markdown",
   "metadata": {},
   "source": [
    "Displaying the result of the imputation."
   ]
  },
  {
   "cell_type": "code",
   "execution_count": 18,
   "metadata": {},
   "outputs": [
    {
     "name": "stdout",
     "output_type": "stream",
     "text": [
      "Country\tAge  \tSalary  \tChildren\tCars\n",
      "Swe    \t38.0 \t47200.0 \t1       \t1   \n",
      "Den    \t27.0 \t48000.0 \t0       \t6   \n",
      "Nor    \t30.0 \t54000.0 \t2       \t1.88\n",
      "Den    \t38.0 \t61000.0 \t1.75    \t1   \n",
      "Nor    \t40.0 \t60477.78\t2       \t1   \n",
      "Swe    \t35.0 \t58000.0 \t1       \t1   \n",
      "Den    \t38.11\t52000.0 \t0       \t1.88\n",
      "Swe    \t48.0 \t67900.0 \t2       \t1   \n",
      "Nor    \t50.0 \t88300.0 \t6       \t2   \n",
      "Swe    \t37.0 \t67900.0 \t1.75    \t2   \n"
     ]
    }
   ],
   "source": [
    "matrix.printer(dataset_by_mean, dataset_title_row)"
   ]
  },
  {
   "cell_type": "markdown",
   "metadata": {},
   "source": [
    "### Imputed by Mean - Transposed\n",
    "Now demonstrating the transposed version of **Imputed by Mean**, in addition to the from and to settings. In this example, the last row is left out.\n",
    "\n",
    "First, the mean imputer is instantiated, imputation by mean, and row.\n",
    "Then, performing the same steps as shown in **Imputed by Mean**."
   ]
  },
  {
   "cell_type": "code",
   "execution_count": 19,
   "metadata": {},
   "outputs": [
    {
     "name": "stdout",
     "output_type": "stream",
     "text": [
      "Country \tSwe    \tDen    \tNor    \tDen    \tNor     \tSwe    \tDen    \tSwe    \tNor    \tSwe    \n",
      "Age     \t38.0   \t27.0   \t30.0   \t38.0   \t40.0    \t35.0   \t38.11  \t48.0   \t50.0   \t37.0   \n",
      "Salary  \t47200.0\t48000.0\t54000.0\t61000.0\t60477.78\t58000.0\t52000.0\t67900.0\t88300.0\t67900.0\n",
      "Children\t1      \t0      \t2      \t1.75   \t2       \t1      \t0      \t2      \t6      \t1.75   \n",
      "Cars    \t1      \t6      \tnan    \t1      \t1       \t1      \tnan    \t1      \t2      \t2      \n"
     ]
    }
   ],
   "source": [
    "mean_imputer_trans = Imputer(\"mean\", 1)\n",
    "mean_imputer_trans = mean_imputer_trans.fit(dataset_trans, 1, 4)\n",
    "dataset_by_mean_trans = mean_imputer_trans.transform()\n",
    "matrix.printer(dataset_by_mean_trans, dataset_title_row, 1)"
   ]
  },
  {
   "cell_type": "markdown",
   "metadata": {},
   "source": [
    "### Imputed by Median\n",
    "First, the median imputer is instantiated, imputation by median, and column.\n",
    "Then, performing the same steps as shown in **Imputed by Mean**."
   ]
  },
  {
   "cell_type": "code",
   "execution_count": 20,
   "metadata": {},
   "outputs": [
    {
     "name": "stdout",
     "output_type": "stream",
     "text": [
      "Country\tAge \tSalary \tChildren\tCars\n",
      "Swe    \t38.0\t47200.0\t1       \t1   \n",
      "Den    \t27.0\t48000.0\t0       \t6   \n",
      "Nor    \t30.0\t54000.0\t2       \t1.0 \n",
      "Den    \t38.0\t61000.0\t1.5     \t1   \n",
      "Nor    \t40.0\t58000.0\t2       \t1   \n",
      "Swe    \t35.0\t58000.0\t1       \t1   \n",
      "Den    \t38.0\t52000.0\t0       \t1.0 \n",
      "Swe    \t48.0\t67900.0\t2       \t1   \n",
      "Nor    \t50.0\t88300.0\t6       \t2   \n",
      "Swe    \t37.0\t67900.0\t1.5     \t2   \n"
     ]
    }
   ],
   "source": [
    "median_imputer = Imputer(\"median\")\n",
    "median_imputer = median_imputer.fit(dataset, 2, 5)\n",
    "dataset_by_median = median_imputer.transform()\n",
    "matrix.printer(dataset_by_median, dataset_title_row)"
   ]
  },
  {
   "cell_type": "markdown",
   "metadata": {},
   "source": [
    "## Extending the Imputer\n",
    "A new concrete strategy class is defined to demonstrate that the imputer is extendable without affecting any of the existing strategies. The only code updated needed to enable the new strategy is adding as an option in the allowed_strategies list in the Imputer __strategy_prosessor method, as well as adding it as an option in the if statement in the same method."
   ]
  },
  {
   "cell_type": "code",
   "execution_count": 21,
   "metadata": {},
   "outputs": [],
   "source": [
    "class ImputeByMode(ImputationStrategy):\n",
    "\n",
    "    def _imputation(self, my_list: list, missing_values: str) -> float:\n",
    "        frequency = {}\n",
    "        for item in my_list:\n",
    "            if item != missing_values:\n",
    "                if (item in frequency):\n",
    "                    frequency[item] += 1\n",
    "                else:\n",
    "                    frequency[item] = 1\n",
    "        mode = max(frequency, key=frequency.get)\n",
    "        return round(mode, 2)"
   ]
  },
  {
   "cell_type": "markdown",
   "metadata": {},
   "source": [
    "### Imputed by Mode\n",
    "First, the mode imputer is instantiated, imputation by mode, and column.\n",
    "Then, performing the same steps as shown in **Imputed by Mean**."
   ]
  },
  {
   "cell_type": "code",
   "execution_count": 22,
   "metadata": {},
   "outputs": [
    {
     "name": "stdout",
     "output_type": "stream",
     "text": [
      "Country\tAge \tSalary \tChildren\tCars\n",
      "Swe    \t38.0\t47200.0\t1       \t1   \n",
      "Den    \t27.0\t48000.0\t0       \t6   \n",
      "Nor    \t30.0\t54000.0\t2       \t1   \n",
      "Den    \t38.0\t61000.0\t2       \t1   \n",
      "Nor    \t40.0\t67900.0\t2       \t1   \n",
      "Swe    \t35.0\t58000.0\t1       \t1   \n",
      "Den    \t38.0\t52000.0\t0       \t1   \n",
      "Swe    \t48.0\t67900.0\t2       \t1   \n",
      "Nor    \t50.0\t88300.0\t6       \t2   \n",
      "Swe    \t37.0\t67900.0\t2       \t2   \n"
     ]
    }
   ],
   "source": [
    "mode = ImputeByMode()\n",
    "mode_imputer = Imputer(\"mode\")\n",
    "mode_imputer = mode_imputer.fit(dataset, 2, 5)\n",
    "dataset_by_mode = mode_imputer.transform()\n",
    "matrix.printer(dataset_by_mode, dataset_title_row)"
   ]
  },
  {
   "cell_type": "markdown",
   "metadata": {},
   "source": [
    "# UML Class Diagram\n",
    "Demonstration of generating a UML Class diagram using PlantUML."
   ]
  },
  {
   "cell_type": "code",
   "execution_count": 23,
   "metadata": {},
   "outputs": [],
   "source": [
    "from zlib import compress\n",
    "import base64\n",
    "import string\n",
    "import requests\n",
    "\n",
    "# This was taken from plantuml library\n",
    "plantuml_alphabet = string.digits + \\\n",
    "    string.ascii_uppercase + string.ascii_lowercase + '-_'\n",
    "base64_alphabet = string.ascii_uppercase + \\\n",
    "    string.ascii_lowercase + string.digits + '+/'\n",
    "b64_to_plantuml = bytes.maketrans(base64_alphabet.encode(\n",
    "    'utf-8'), plantuml_alphabet.encode('utf-8'))\n",
    "\n",
    "\n",
    "def deflate_and_encode(plantuml_text):\n",
    "    \"\"\"\n",
    "    zlib compress the plantuml text and encode it for the plantuml server.\n",
    "    \"\"\"\n",
    "    zlibbed_str = compress(plantuml_text.encode('utf-8'))\n",
    "    compressed_string = zlibbed_str[2:-4]\n",
    "    return base64.b64encode(compressed_string).translate(b64_to_plantuml).\\\n",
    "        decode('utf-8')\n",
    "\n",
    "\n",
    "def render_uml(uml, fmt=\"svg\"):\n",
    "    uri = \"http://www.plantuml.com/plantuml/{}/{}\".format(\n",
    "        fmt, deflate_and_encode(uml))\n",
    "    r = requests.get(uri)\n",
    "    if r.ok:\n",
    "        return r.content"
   ]
  },
  {
   "cell_type": "code",
   "execution_count": 24,
   "metadata": {},
   "outputs": [
    {
     "data": {
      "image/svg+xml": [
       "<svg contentScriptType=\"application/ecmascript\" contentStyleType=\"text/css\" height=\"511px\" preserveAspectRatio=\"none\" style=\"width:613px;height:511px;\" version=\"1.1\" viewBox=\"0 0 613 511\" width=\"613px\" xmlns=\"http://www.w3.org/2000/svg\" xmlns:xlink=\"http://www.w3.org/1999/xlink\" zoomAndPan=\"magnify\"><defs><filter height=\"300%\" id=\"f1xhb0fpc7z9uw\" width=\"300%\" x=\"-1\" y=\"-1\"><feGaussianBlur result=\"blurOut\" stdDeviation=\"2.0\"/><feColorMatrix in=\"blurOut\" result=\"blurOut2\" type=\"matrix\" values=\"0 0 0 0 0 0 0 0 0 0 0 0 0 0 0 0 0 0 .4 0\"/><feOffset dx=\"4.0\" dy=\"4.0\" in=\"blurOut2\" result=\"blurOut3\"/><feBlend in=\"SourceGraphic\" in2=\"blurOut3\" mode=\"normal\"/></filter></defs><g><text fill=\"#000000\" font-family=\"sans-serif\" font-size=\"18\" lengthAdjust=\"spacingAndGlyphs\" textLength=\"224\" x=\"197.5\" y=\"16.708\">Imputer Strategy Pattern</text><!--MD5=[ed6624c6556d5e7b1bd23032162d20b7]\n",
       "class Client--><rect fill=\"#FFFFFF\" filter=\"url(#f1xhb0fpc7z9uw)\" height=\"23.9688\" id=\"Client\" style=\"stroke: #000000; stroke-width: 1.5;\" width=\"41\" x=\"80.5\" y=\"374.4531\"/><text fill=\"#000000\" font-family=\"sans-serif\" font-size=\"12\" lengthAdjust=\"spacingAndGlyphs\" textLength=\"35\" x=\"83.5\" y=\"390.5918\">Client</text><!--MD5=[5087628324ccd0e7267e523d2c3d1e66]\n",
       "class Imputer--><rect fill=\"#FFFFFF\" filter=\"url(#f1xhb0fpc7z9uw)\" height=\"168.0156\" id=\"Imputer\" style=\"stroke: #000000; stroke-width: 1.5;\" width=\"190\" x=\"6\" y=\"114.9531\"/><text fill=\"#000000\" font-family=\"sans-serif\" font-size=\"12\" lengthAdjust=\"spacingAndGlyphs\" textLength=\"48\" x=\"77\" y=\"131.0918\">Imputer</text><line style=\"stroke: #000000; stroke-width: 1.5;\" x1=\"7\" x2=\"195\" y1=\"138.9219\" y2=\"138.9219\"/><ellipse cx=\"17\" cy=\"149.9219\" fill=\"none\" rx=\"3\" ry=\"3\" style=\"stroke: #038048; stroke-width: 1.0;\"/><text fill=\"#000000\" font-family=\"sans-serif\" font-size=\"11\" lengthAdjust=\"spacingAndGlyphs\" textLength=\"164\" x=\"26\" y=\"153.1323\">missing_values : str = &quot;nan&quot;</text><polygon fill=\"none\" points=\"17,157.7266,21,161.7266,17,165.7266,13,161.7266\" style=\"stroke: #B38D22; stroke-width: 1.0;\"/><text fill=\"#000000\" font-family=\"sans-serif\" font-size=\"11\" lengthAdjust=\"spacingAndGlyphs\" textLength=\"134\" x=\"26\" y=\"165.937\">strategy : str = &quot;mean&quot;</text><polygon fill=\"none\" points=\"17,170.5313,21,174.5313,17,178.5313,13,174.5313\" style=\"stroke: #B38D22; stroke-width: 1.0;\"/><text fill=\"#000000\" font-family=\"sans-serif\" font-size=\"11\" lengthAdjust=\"spacingAndGlyphs\" textLength=\"78\" x=\"26\" y=\"178.7417\">axis = int = 0</text><polygon fill=\"none\" points=\"17,183.3359,21,187.3359,17,191.3359,13,187.3359\" style=\"stroke: #B38D22; stroke-width: 1.0;\"/><text fill=\"#000000\" font-family=\"sans-serif\" font-size=\"11\" lengthAdjust=\"spacingAndGlyphs\" textLength=\"84\" x=\"26\" y=\"191.5464\">from_item : int</text><polygon fill=\"none\" points=\"17,196.1406,21,200.1406,17,204.1406,13,200.1406\" style=\"stroke: #B38D22; stroke-width: 1.0;\"/><text fill=\"#000000\" font-family=\"sans-serif\" font-size=\"11\" lengthAdjust=\"spacingAndGlyphs\" textLength=\"68\" x=\"26\" y=\"204.3511\">to_item : int</text><line style=\"stroke: #000000; stroke-width: 1.5;\" x1=\"7\" x2=\"195\" y1=\"210.9453\" y2=\"210.9453\"/><ellipse cx=\"17\" cy=\"221.9453\" fill=\"#84BE84\" rx=\"3\" ry=\"3\" style=\"stroke: #038048; stroke-width: 1.0;\"/><text fill=\"#000000\" font-family=\"sans-serif\" font-size=\"11\" lengthAdjust=\"spacingAndGlyphs\" textLength=\"19\" x=\"26\" y=\"225.1558\">fit()</text><ellipse cx=\"17\" cy=\"234.75\" fill=\"#84BE84\" rx=\"3\" ry=\"3\" style=\"stroke: #038048; stroke-width: 1.0;\"/><text fill=\"#000000\" font-family=\"sans-serif\" font-size=\"11\" lengthAdjust=\"spacingAndGlyphs\" textLength=\"65\" x=\"26\" y=\"237.9604\">transform()</text><polygon fill=\"#FFFF44\" points=\"17,242.5547,21,246.5547,17,250.5547,13,246.5547\" style=\"stroke: #B38D22; stroke-width: 1.0;\"/><text fill=\"#000000\" font-family=\"sans-serif\" font-size=\"11\" lengthAdjust=\"spacingAndGlyphs\" textLength=\"68\" x=\"26\" y=\"250.7651\">imputation()</text><rect fill=\"#F24D5C\" height=\"6\" style=\"stroke: #C82930; stroke-width: 1.0;\" width=\"6\" x=\"14\" y=\"257.3594\"/><text fill=\"#000000\" font-family=\"sans-serif\" font-size=\"11\" lengthAdjust=\"spacingAndGlyphs\" textLength=\"120\" x=\"26\" y=\"263.5698\">strategy_prosessor()</text><rect fill=\"#F24D5C\" height=\"6\" style=\"stroke: #C82930; stroke-width: 1.0;\" width=\"6\" x=\"14\" y=\"270.1641\"/><text fill=\"#000000\" font-family=\"sans-serif\" font-size=\"11\" lengthAdjust=\"spacingAndGlyphs\" textLength=\"66\" x=\"26\" y=\"276.3745\">transpose()</text><path d=\"M65.5,28.9531 L65.5,54.0859 A0,0 0 0 0 65.5,54.0859 L97,54.0859 L101,114.7791 L105,54.0859 L136.5,54.0859 A0,0 0 0 0 136.5,54.0859 L136.5,38.9531 L126.5,28.9531 L65.5,28.9531 A0,0 0 0 0 65.5,28.9531 \" fill=\"#FBFB77\" filter=\"url(#f1xhb0fpc7z9uw)\" style=\"stroke: #A80036; stroke-width: 1.0;\"/><path d=\"M126.5,28.9531 L126.5,38.9531 L136.5,38.9531 L126.5,28.9531 \" fill=\"#FBFB77\" style=\"stroke: #A80036; stroke-width: 1.0;\"/><text fill=\"#000000\" font-family=\"sans-serif\" font-size=\"13\" lengthAdjust=\"spacingAndGlyphs\" textLength=\"50\" x=\"71.5\" y=\"46.02\">Context</text><!--MD5=[13edfd10280322c47224aec1cae3a9f3]\n",
       "class ImputerStrategy--><rect fill=\"#FFFFFF\" filter=\"url(#f1xhb0fpc7z9uw)\" height=\"66.7422\" id=\"ImputerStrategy\" style=\"stroke: #000000; stroke-width: 1.5;\" width=\"107\" x=\"287.5\" y=\"165.4531\"/><text fill=\"#000000\" font-family=\"sans-serif\" font-size=\"12\" font-style=\"italic\" lengthAdjust=\"spacingAndGlyphs\" textLength=\"71\" x=\"305.5\" y=\"181.5918\">«Interface»</text><text fill=\"#000000\" font-family=\"sans-serif\" font-size=\"12\" lengthAdjust=\"spacingAndGlyphs\" textLength=\"101\" x=\"290.5\" y=\"195.5605\">ImputerStrategy</text><line style=\"stroke: #000000; stroke-width: 1.5;\" x1=\"288.5\" x2=\"393.5\" y1=\"203.3906\" y2=\"203.3906\"/><line style=\"stroke: #000000; stroke-width: 1.5;\" x1=\"288.5\" x2=\"393.5\" y1=\"211.3906\" y2=\"211.3906\"/><polygon fill=\"#FFFF44\" points=\"298.5,217.3906,302.5,221.3906,298.5,225.3906,294.5,221.3906\" style=\"stroke: #B38D22; stroke-width: 1.0;\"/><text fill=\"#000000\" font-family=\"sans-serif\" font-size=\"11\" lengthAdjust=\"spacingAndGlyphs\" textLength=\"68\" x=\"307.5\" y=\"225.6011\">imputation()</text><!--MD5=[1373a1e408c4feb1dadf4f02adda1d39]\n",
       "class ImputByMean--><rect fill=\"#FFFFFF\" filter=\"url(#f1xhb0fpc7z9uw)\" height=\"52.7734\" id=\"ImputByMean\" style=\"stroke: #000000; stroke-width: 1.5;\" width=\"94\" x=\"159\" y=\"359.9531\"/><text fill=\"#000000\" font-family=\"sans-serif\" font-size=\"12\" lengthAdjust=\"spacingAndGlyphs\" textLength=\"83\" x=\"164.5\" y=\"376.0918\">ImputByMean</text><line style=\"stroke: #000000; stroke-width: 1.5;\" x1=\"160\" x2=\"252\" y1=\"383.9219\" y2=\"383.9219\"/><line style=\"stroke: #000000; stroke-width: 1.5;\" x1=\"160\" x2=\"252\" y1=\"391.9219\" y2=\"391.9219\"/><polygon fill=\"#FFFF44\" points=\"170,397.9219,174,401.9219,170,405.9219,166,401.9219\" style=\"stroke: #B38D22; stroke-width: 1.0;\"/><text fill=\"#000000\" font-family=\"sans-serif\" font-size=\"11\" lengthAdjust=\"spacingAndGlyphs\" textLength=\"68\" x=\"179\" y=\"406.1323\">imputation()</text><path d=\"M81,473.9531 L81,499.0859 A0,0 0 0 0 81,499.0859 L231,499.0859 A0,0 0 0 0 231,499.0859 L231,483.9531 L221,473.9531 L165.955,473.9531 L192.863,413.2014 L157.955,473.9531 L81,473.9531 A0,0 0 0 0 81,473.9531 \" fill=\"#FBFB77\" filter=\"url(#f1xhb0fpc7z9uw)\" style=\"stroke: #A80036; stroke-width: 1.0;\"/><path d=\"M221,473.9531 L221,483.9531 L231,483.9531 L221,473.9531 \" fill=\"#FBFB77\" style=\"stroke: #A80036; stroke-width: 1.0;\"/><text fill=\"#000000\" font-family=\"sans-serif\" font-size=\"13\" lengthAdjust=\"spacingAndGlyphs\" textLength=\"129\" x=\"87\" y=\"491.02\">Concrete Strategy 1</text><!--MD5=[5ebd44d9de6eb136c67432c389dc183a]\n",
       "class ImputByMedian--><rect fill=\"#FFFFFF\" filter=\"url(#f1xhb0fpc7z9uw)\" height=\"52.7734\" id=\"ImputByMedian\" style=\"stroke: #000000; stroke-width: 1.5;\" width=\"100\" x=\"291\" y=\"359.9531\"/><text fill=\"#000000\" font-family=\"sans-serif\" font-size=\"12\" lengthAdjust=\"spacingAndGlyphs\" textLength=\"94\" x=\"294\" y=\"376.0918\">ImputByMedian</text><line style=\"stroke: #000000; stroke-width: 1.5;\" x1=\"292\" x2=\"390\" y1=\"383.9219\" y2=\"383.9219\"/><line style=\"stroke: #000000; stroke-width: 1.5;\" x1=\"292\" x2=\"390\" y1=\"391.9219\" y2=\"391.9219\"/><polygon fill=\"#FFFF44\" points=\"302,397.9219,306,401.9219,302,405.9219,298,401.9219\" style=\"stroke: #B38D22; stroke-width: 1.0;\"/><text fill=\"#000000\" font-family=\"sans-serif\" font-size=\"11\" lengthAdjust=\"spacingAndGlyphs\" textLength=\"68\" x=\"311\" y=\"406.1323\">imputation()</text><path d=\"M266,473.9531 L266,499.0859 A0,0 0 0 0 266,499.0859 L416,499.0859 A0,0 0 0 0 416,499.0859 L416,483.9531 L406,473.9531 L345,473.9531 L341,413.2014 L337,473.9531 L266,473.9531 A0,0 0 0 0 266,473.9531 \" fill=\"#FBFB77\" filter=\"url(#f1xhb0fpc7z9uw)\" style=\"stroke: #A80036; stroke-width: 1.0;\"/><path d=\"M406,473.9531 L406,483.9531 L416,483.9531 L406,473.9531 \" fill=\"#FBFB77\" style=\"stroke: #A80036; stroke-width: 1.0;\"/><text fill=\"#000000\" font-family=\"sans-serif\" font-size=\"13\" lengthAdjust=\"spacingAndGlyphs\" textLength=\"129\" x=\"272\" y=\"491.02\">Concrete Strategy 2</text><!--MD5=[71a42b3ac2fd6d3111205cd7ac3cf2d5]\n",
       "class ImputByMode--><rect fill=\"#FFFFFF\" filter=\"url(#f1xhb0fpc7z9uw)\" height=\"52.7734\" id=\"ImputByMode\" style=\"stroke: #000000; stroke-width: 1.5;\" width=\"94\" x=\"456\" y=\"359.9531\"/><text fill=\"#000000\" font-family=\"sans-serif\" font-size=\"12\" lengthAdjust=\"spacingAndGlyphs\" textLength=\"83\" x=\"461.5\" y=\"376.0918\">ImputByMode</text><line style=\"stroke: #000000; stroke-width: 1.5;\" x1=\"457\" x2=\"549\" y1=\"383.9219\" y2=\"383.9219\"/><line style=\"stroke: #000000; stroke-width: 1.5;\" x1=\"457\" x2=\"549\" y1=\"391.9219\" y2=\"391.9219\"/><polygon fill=\"#FFFF44\" points=\"467,397.9219,471,401.9219,467,405.9219,463,401.9219\" style=\"stroke: #B38D22; stroke-width: 1.0;\"/><text fill=\"#000000\" font-family=\"sans-serif\" font-size=\"11\" lengthAdjust=\"spacingAndGlyphs\" textLength=\"68\" x=\"476\" y=\"406.1323\">imputation()</text><path d=\"M451,473.9531 L451,499.0859 A0,0 0 0 0 451,499.0859 L601,499.0859 A0,0 0 0 0 601,499.0859 L601,483.9531 L591,473.9531 L527.261,473.9531 L509.043,413.2014 L519.261,473.9531 L451,473.9531 A0,0 0 0 0 451,473.9531 \" fill=\"#FBFB77\" filter=\"url(#f1xhb0fpc7z9uw)\" style=\"stroke: #A80036; stroke-width: 1.0;\"/><path d=\"M591,473.9531 L591,483.9531 L601,483.9531 L591,473.9531 \" fill=\"#FBFB77\" style=\"stroke: #A80036; stroke-width: 1.0;\"/><text fill=\"#000000\" font-family=\"sans-serif\" font-size=\"13\" lengthAdjust=\"spacingAndGlyphs\" textLength=\"129\" x=\"457\" y=\"491.02\">Concrete Strategy 3</text><!--MD5=[5b62c5ba55069126ba4d380ce020be0a]\n",
       "reverse link Imputer to Client--><path d=\"M101,288.2291 C101,322.3191 101,357.2181 101,374.4451 \" fill=\"none\" id=\"Imputer&lt;-Client\" style=\"stroke: #808080; stroke-width: 1.0;\"/><polygon fill=\"#808080\" points=\"101,283.2071,97,292.2071,101,288.2071,105,292.2071,101,283.2071\" style=\"stroke: #808080; stroke-width: 1.0;\"/><text fill=\"#000000\" font-family=\"sans-serif\" font-size=\"13\" lengthAdjust=\"spacingAndGlyphs\" textLength=\"59\" x=\"102\" y=\"326.02\">Requests</text><!--MD5=[d58dac943458e7eea8f6a64ea2e6dc83]\n",
       "reverse link Imputer to ImputerStrategy--><path d=\"M209.397,198.9531 C236.461,198.9531 264.32,198.9531 287.398,198.9531 \" fill=\"none\" id=\"Imputer&lt;-ImputerStrategy\" style=\"stroke: #808080; stroke-width: 1.0;\"/><polygon fill=\"#808080\" points=\"196.199,198.9531,202.199,202.9531,208.199,198.9531,202.199,194.9531,196.199,198.9531\" style=\"stroke: #808080; stroke-width: 1.0;\"/><text fill=\"#000000\" font-family=\"sans-serif\" font-size=\"13\" lengthAdjust=\"spacingAndGlyphs\" textLength=\"55\" x=\"214.25\" y=\"192.02\">Strategy</text><!--MD5=[f97f1d42228d2a8befd9be8c21c63580]\n",
       "reverse link ImputerStrategy to ImputByMean--><path d=\"M305.196,249.1501 C279.284,284.7551 245.31,331.4391 224.597,359.9001 \" fill=\"none\" id=\"ImputerStrategy&lt;-ImputByMean\" style=\"stroke: #808080; stroke-width: 1.0;\"/><polygon fill=\"none\" points=\"299.747,244.7421,317.175,232.6901,311.067,252.9801,299.747,244.7421\" style=\"stroke: #808080; stroke-width: 1.0;\"/><text fill=\"#000000\" font-family=\"sans-serif\" font-size=\"13\" lengthAdjust=\"spacingAndGlyphs\" textLength=\"51\" x=\"259\" y=\"326.02\">Extends</text><!--MD5=[ae8ed19ac19806cd17bae350c611cc0f]\n",
       "reverse link ImputerStrategy to ImputByMedian--><path d=\"M341,253.0771 C341,288.1261 341,332.4741 341,359.9001 \" fill=\"none\" id=\"ImputerStrategy&lt;-ImputByMedian\" style=\"stroke: #808080; stroke-width: 1.0;\"/><polygon fill=\"none\" points=\"334,252.6901,341,232.6901,348,252.6901,334,252.6901\" style=\"stroke: #808080; stroke-width: 1.0;\"/><text fill=\"#000000\" font-family=\"sans-serif\" font-size=\"13\" lengthAdjust=\"spacingAndGlyphs\" textLength=\"51\" x=\"342\" y=\"326.02\">Extends</text><!--MD5=[96ecf2b570c7aef61c0343793d57b862]\n",
       "reverse link ImputerStrategy to ImputByMode--><path d=\"M383.119,248.1821 C414.317,283.9051 455.602,331.1801 480.684,359.9001 \" fill=\"none\" id=\"ImputerStrategy&lt;-ImputByMode\" style=\"stroke: #808080; stroke-width: 1.0;\"/><polygon fill=\"none\" points=\"377.473,252.3581,369.589,232.6901,388.018,243.1491,377.473,252.3581\" style=\"stroke: #808080; stroke-width: 1.0;\"/><text fill=\"#000000\" font-family=\"sans-serif\" font-size=\"13\" lengthAdjust=\"spacingAndGlyphs\" textLength=\"51\" x=\"452\" y=\"326.02\">Extends</text><!--MD5=[d1e73744b09324ecc3cd693684c25999]\n",
       "@startuml\n",
       "skinparam class {\n",
       "    BackgroundColor White\n",
       "    ArrowColor Gray\n",
       "    BorderColor Black\n",
       "}\n",
       "skinparam stereotypeCBackgroundColor Gray\n",
       "hide circle\n",
       "\n",
       "title Imputer Strategy Pattern\n",
       "\n",
       "class Client\n",
       "hide Client methods\n",
       "hide Client attributes\n",
       "\n",
       "class Imputer\n",
       "Imputer : +fit()\n",
       "Imputer : +transform()\n",
       "Imputer : #imputation()\n",
       "Imputer : -strategy_prosessor()\n",
       "Imputer : -transpose()\n",
       "Imputer : +missing_values : str = \"nan\"\n",
       "Imputer : #strategy : str = \"mean\"\n",
       "Imputer : #axis = int = 0\n",
       "Imputer : #from_item : int\n",
       "Imputer : #to_item : int\n",
       "note Top: Context\n",
       "\n",
       "class ImputerStrategy <<Interface>>\n",
       "ImputerStrategy : #imputation()\n",
       "\n",
       "class ImputByMean\n",
       "ImputByMean : #imputation()\n",
       "note Bottom: Concrete Strategy 1\n",
       "\n",
       "class ImputByMedian\n",
       "ImputByMedian : #imputation()\n",
       "note Bottom: Concrete Strategy 2\n",
       "\n",
       "class ImputByMode\n",
       "ImputByMode : #imputation()\n",
       "note Bottom: Concrete Strategy 3\n",
       "\n",
       "Imputer <- - Client : Requests\n",
       "Imputer *- ImputerStrategy : Strategy\n",
       "ImputerStrategy <|- - ImputByMean : Extends\n",
       "ImputerStrategy <|- - ImputByMedian : Extends\n",
       "ImputerStrategy <|- - ImputByMode : Extends\n",
       "@enduml\n",
       "\n",
       "PlantUML version 1.2019.13(Tue Dec 10 17:18:29 UTC 2019)\n",
       "(GPL source distribution)\n",
       "Java Runtime: Java(TM) SE Runtime Environment\n",
       "JVM: Java HotSpot(TM) 64-Bit Server VM\n",
       "Java Version: 1.7.0_25-b15\n",
       "Operating System: Linux\n",
       "Default Encoding: UTF-8\n",
       "Language: en\n",
       "Country: US\n",
       "--></g></svg>"
      ],
      "text/plain": [
       "<IPython.core.display.SVG object>"
      ]
     },
     "execution_count": 24,
     "metadata": {},
     "output_type": "execute_result"
    }
   ],
   "source": [
    "diagram = \"\"\"\n",
    "@startuml\n",
    "\n",
    "skinparam class {\n",
    "    BackgroundColor White\n",
    "    ArrowColor Gray\n",
    "    BorderColor Black\n",
    "}\n",
    "skinparam stereotypeCBackgroundColor Gray\n",
    "hide circle\n",
    "\n",
    "title Imputer Strategy Pattern\n",
    "\n",
    "class Client\n",
    "hide Client methods\n",
    "hide Client attributes\n",
    "\n",
    "class Imputer\n",
    "Imputer : +fit()\n",
    "Imputer : +transform()\n",
    "Imputer : #imputation()\n",
    "Imputer : -strategy_prosessor()\n",
    "Imputer : -transpose()\n",
    "Imputer : +missing_values : str = \"nan\"\n",
    "Imputer : #strategy : str = \"mean\"\n",
    "Imputer : #axis = int = 0\n",
    "Imputer : #from_item : int\n",
    "Imputer : #to_item : int\n",
    "note Top: Context\n",
    "\n",
    "class ImputerStrategy <<Interface>>\n",
    "ImputerStrategy : #imputation()\n",
    "\n",
    "class ImputByMean\n",
    "ImputByMean : #imputation()\n",
    "note Bottom: Concrete Strategy 1\n",
    "\n",
    "class ImputByMedian\n",
    "ImputByMedian : #imputation()\n",
    "note Bottom: Concrete Strategy 2\n",
    "\n",
    "class ImputByMode\n",
    "ImputByMode : #imputation()\n",
    "note Bottom: Concrete Strategy 3\n",
    "\n",
    "Imputer <-- Client : Requests\n",
    "Imputer *- ImputerStrategy : Strategy\n",
    "ImputerStrategy <|-- ImputByMean : Extends\n",
    "ImputerStrategy <|-- ImputByMedian : Extends\n",
    "ImputerStrategy <|-- ImputByMode : Extends\n",
    "\n",
    "@enduml\n",
    "\"\"\"\n",
    "\n",
    "from IPython.display import SVG\n",
    "SVG(render_uml(diagram))"
   ]
  },
  {
   "cell_type": "markdown",
   "metadata": {},
   "source": [
    "Exporting to png file format."
   ]
  },
  {
   "cell_type": "code",
   "execution_count": 25,
   "metadata": {},
   "outputs": [
    {
     "data": {
      "image/png": "[encoded data removed]",
      "text/plain": [
       "<IPython.core.display.Image object>"
      ]
     },
     "execution_count": 25,
     "metadata": {},
     "output_type": "execute_result"
    }
   ],
   "source": [
    "from IPython.display import Image\n",
    "Image(render_uml(diagram, \"png\"))"
   ]
  },
  {
   "cell_type": "code",
   "execution_count": null,
   "metadata": {},
   "outputs": [],
   "source": []
  }
 ],
 "metadata": {
  "hide_input": false,
  "kernelspec": {
   "display_name": "Python 3",
   "language": "python",
   "name": "python3"
  },
  "language_info": {
   "codemirror_mode": {
    "name": "ipython",
    "version": 3
   },
   "file_extension": ".py",
   "mimetype": "text/x-python",
   "name": "python",
   "nbconvert_exporter": "python",
   "pygments_lexer": "ipython3",
   "version": "3.8.0"
  },
  "toc": {
   "base_numbering": 1,
   "nav_menu": {
    "height": "371.25px",
    "width": "298.99456787109375px"
   },
   "number_sections": true,
   "sideBar": true,
   "skip_h1_title": true,
   "title_cell": "Table of Contents",
   "title_sidebar": "Contents",
   "toc_cell": true,
   "toc_position": {},
   "toc_section_display": true,
   "toc_window_display": false
  },
  "varInspector": {
   "cols": {
    "lenName": 16,
    "lenType": 16,
    "lenVar": 40
   },
   "kernels_config": {
    "python": {
     "delete_cmd_postfix": "",
     "delete_cmd_prefix": "del ",
     "library": "var_list.py",
     "varRefreshCmd": "print(var_dic_list())"
    },
    "r": {
     "delete_cmd_postfix": ") ",
     "delete_cmd_prefix": "rm(",
     "library": "var_list.r",
     "varRefreshCmd": "cat(var_dic_list()) "
    }
   },
   "position": {
    "height": "375.9918518066406px",
    "left": "491.0245056152344px",
    "right": "20px",
    "top": "100.97826385498047px",
    "width": "612.2554321289062px"
   },
   "types_to_exclude": [
    "module",
    "function",
    "builtin_function_or_method",
    "instance",
    "_Feature"
   ],
   "window_display": false
  }
 },
 "nbformat": 4,
 "nbformat_minor": 2
}
